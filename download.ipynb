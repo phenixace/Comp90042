{
 "cells": [
  {
   "cell_type": "code",
   "execution_count": 28,
   "source": [
<<<<<<< HEAD
    "import tweepy\r\n",
    "import json\r\n",
    "bearer_token = 'AAAAAAAAAAAAAAAAAAAAAIxRbgEAAAAADvbPSYRAKI04Jjvgn%2BPgNPs36a0%3D3nz80k7S0FuiC47LCnU686DLY4Sot6n71Mlj7aaqL9bFXOIJB2'\r\n",
=======
    "import tweepy\n",
    "import json\n",
    "bearer_token = 'AAAAAAAAAAAAAAAAAAAAAIxRbgEAAAAADvbPSYRAKI04Jjvgn%2BPgNPs36a0%3D3nz80k7S0FuiC47LCnU686DLY4Sot6n71Mlj7aaqL9bFXOIJB2'\n",
>>>>>>> 513605ad6ecd9f96d4af23c6105e042f3d36d143
    "client = tweepy.Client(bearer_token=bearer_token, wait_on_rate_limit=True)"
   ],
   "outputs": [],
   "metadata": {}
  },
  {
   "cell_type": "code",
   "execution_count": 29,
   "source": [
    "def crawl_tweet_objects(input, output_dir):\r\n",
    "    tweet_ids = open(input).read().replace('\\n', ',').split(',')[:-1]\r\n",
    "    \r\n",
    "    for tweet_id in tweet_ids:\r\n",
    "        tweet_object = {}\r\n",
    "        response = client.get_tweet(tweet_id, tweet_fields=['created_at', 'id', 'text', 'entities', 'source', 'in_reply_to_user_id']).data\r\n",
    "\r\n",
    "        if response != None:\r\n",
    "            created_at = response.created_at\r\n",
    "            id = response.id\r\n",
    "            text = response.text\r\n",
    "            entities = response.entities\r\n",
    "            source = response.source\r\n",
    "            in_reply_to_user_id = response.in_reply_to_user_id\r\n",
    "\r\n",
    "            tweet_object['created_at'] = created_at\r\n",
    "            tweet_object['id'] = id\r\n",
    "            tweet_object['text'] = text\r\n",
    "            tweet_object['entities'] = entities\r\n",
    "            tweet_object['source'] = source\r\n",
    "            tweet_object['in_reply_to_user_id'] = in_reply_to_user_id\r\n",
    "\r\n",
    "            tweet_object_fname = str(id) + '.json'\r\n",
    "\r\n",
    "            with open(output_dir+tweet_object_fname, 'w') as output_file:\r\n",
    "                json.dump(tweet_object, output_file, indent = 4, default = str)"
   ],
   "outputs": [],
   "metadata": {}
  },
  {
   "cell_type": "code",
   "execution_count": null,
   "source": [
    "# crawl train\r\n",
    "input = 'project-data/train.data.txt'\r\n",
    "output_dir = 'project-data/train-tweet-objects/'\r\n",
    "crawl_tweet_objects(input, output_dir)"
   ],
   "outputs": [],
   "metadata": {}
  },
  {
   "cell_type": "code",
   "execution_count": null,
   "source": [
    "# crawl dev\r\n",
    "input = 'project-data/dev.data.txt'\r\n",
    "output_dir = 'project-data/dev-tweet-objects/'\r\n",
    "crawl_tweet_objects(input, output_dir)"
   ],
   "outputs": [],
   "metadata": {}
  }
 ],
 "metadata": {
  "interpreter": {
   "hash": "9b5ff723cd38cf7d359aa2bf5fe7978a9ff73d1f62f5b88243d6c54060f370c5"
  },
  "kernelspec": {
   "display_name": "Python 3.9.7 ('base')",
   "language": "python",
   "name": "python3"
  },
  "language_info": {
   "codemirror_mode": {
    "name": "ipython",
    "version": 3
   },
   "file_extension": ".py",
   "mimetype": "text/x-python",
   "name": "python",
   "nbconvert_exporter": "python",
   "pygments_lexer": "ipython3",
   "version": "3.9.7"
  },
  "orig_nbformat": 4
 },
 "nbformat": 4,
 "nbformat_minor": 2
}