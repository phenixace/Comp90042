{
 "cells": [
  {
   "cell_type": "code",
   "execution_count": 28,
   "metadata": {},
   "outputs": [],
   "source": [
    "import tweepy\n",
    "import json\n",
    "bearer_token = 'AAAAAAAAAAAAAAAAAAAAAIxRbgEAAAAADvbPSYRAKI04Jjvgn%2BPgNPs36a0%3D3nz80k7S0FuiC47LCnU686DLY4Sot6n71Mlj7aaqL9bFXOIJB2'\n",
    "client = tweepy.Client(bearer_token=bearer_token, wait_on_rate_limit=True)"
   ]
  },
  {
   "cell_type": "code",
   "execution_count": 29,
   "metadata": {},
   "outputs": [],
   "source": [
    "def crawl_tweet_objects(input, output_dir):\n",
    "    tweet_ids = open(input).read().replace('\\n', ',').split(',')[:-1]\n",
    "    \n",
    "    for tweet_id in tweet_ids:\n",
    "        tweet_object = {}\n",
    "        response = client.get_tweet(tweet_id, tweet_fields=['created_at', 'id', 'text', 'entities', 'source', 'in_reply_to_user_id']).data\n",
    "\n",
    "        if response != None:\n",
    "            created_at = response.created_at\n",
    "            id = response.id\n",
    "            text = response.text\n",
    "            entities = response.entities\n",
    "            source = response.source\n",
    "            in_reply_to_user_id = response.in_reply_to_user_id\n",
    "\n",
    "            tweet_object['created_at'] = created_at\n",
    "            tweet_object['id'] = id\n",
    "            tweet_object['text'] = text\n",
    "            tweet_object['entities'] = entities\n",
    "            tweet_object['source'] = source\n",
    "            tweet_object['in_reply_to_user_id'] = in_reply_to_user_id\n",
    "\n",
    "            tweet_object_fname = str(id) + '.json'\n",
    "\n",
    "            with open(output_dir+tweet_object_fname, 'w') as output_file:\n",
    "                json.dump(tweet_object, output_file, indent = 4, default = str)"
   ]
  },
  {
   "cell_type": "code",
   "execution_count": null,
   "metadata": {},
   "outputs": [],
   "source": [
    "# crawl train\n",
    "input = 'project-data/train.data.txt'\n",
    "output_dir = 'project-data/train-tweet-objects/'\n",
    "crawl_tweet_objects(input, output_dir)"
   ]
  },
  {
   "cell_type": "code",
   "execution_count": null,
   "metadata": {},
   "outputs": [],
   "source": [
    "# crawl dev\n",
    "input = 'project-data/dev.data.txt'\n",
    "output_dir = 'project-data/dev-tweet-objects/'\n",
    "crawl_tweet_objects(input, output_dir)"
   ]
  }
 ],
 "metadata": {
  "interpreter": {
   "hash": "9b5ff723cd38cf7d359aa2bf5fe7978a9ff73d1f62f5b88243d6c54060f370c5"
  },
  "kernelspec": {
   "display_name": "Python 3.9.7 ('base')",
   "language": "python",
   "name": "python3"
  },
  "language_info": {
   "codemirror_mode": {
    "name": "ipython",
    "version": 3
   },
   "file_extension": ".py",
   "mimetype": "text/x-python",
   "name": "python",
   "nbconvert_exporter": "python",
   "pygments_lexer": "ipython3",
   "version": "3.9.7"
  },
  "orig_nbformat": 4
 },
 "nbformat": 4,
 "nbformat_minor": 2
}
