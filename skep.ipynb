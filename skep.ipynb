{
 "cells": [
  {
   "cell_type": "code",
   "execution_count": 2,
   "source": [
    "from dataset import Dataset4SKEP\r\n",
    "from paddlenlp.datasets import MapDataset\r\n",
    "import paddle.nn as nn\r\n",
    "\r\n",
    "\r\n",
    "\r\n",
    "train_ds = Dataset4SKEP('train')\r\n",
    "train_ds = MapDataset(train_ds)\r\n",
    "dev_ds   = Dataset4SKEP('dev')\r\n",
    "dev_ds = MapDataset(dev_ds)\r\n",
    "test_ds  = Dataset4SKEP('test')\r\n",
    "test_ds = MapDataset(test_ds)\r\n",
    "print(train_ds[0:10])"
   ],
   "outputs": [
    {
     "output_type": "stream",
     "name": "stderr",
     "text": [
      "C:\\ProgramData\\Anaconda3\\lib\\site-packages\\ipykernel\\ipkernel.py:287: DeprecationWarning: `should_run_async` will not call `transform_cell` automatically in the future. Please pass the result to `transformed_cell` argument and any exception that happen during thetransform in `preprocessing_exc_tuple` in IPython 7.17 and above.\n",
      "  and should_run_async(code)\n"
     ]
    },
    {
     "output_type": "stream",
     "name": "stdout",
     "text": [
      "[{'text': 'can regularly rinsing your nose with saline help prevent infection with the new coronavirus? can eating garlic help prevent infection with the new coronavirus? covidmalaysia do vaccines against pneumonia protect you against the new coronavirus? can spraying alcohol or chlorine all over your body kill the new coronavirus? chamber how effective are thermal scanners in detecting people infected with the new coronavirus? can an ultraviolet disinfection lamp kill the new coronavirus? are hand dryers effective in killing the new coronavirus? the new coronavirus cannot be transmitted through mosquito bites. taking a hot bath does not prevent the new coronavirus disease cold weather and snow cannot kill the new coronavirus. covid virus can be transmitted in areas with hot and humid climates drinking alcohol does not protect you against covid and can be dangerous being able to hold your breath for seconds or more without coughing or feeling discomfort does not mean you are free from the coronavirus disease covid or any other lung disease. you can recover from the coronavirus disease covid. catching the new coronavirus does not mean you will have it for life. exposing yourself to the sun or to temperatures higher than c degrees does not prevent the coronavirus disease covid g mobile networks do not spread covid', 'label': 0, 'qid': 0}, {'text': 'french police chief killed himself after charliehebdo attack devastating. rt french police chief killed himself after charliehebdo attack nothing to see here. move along. it stinks !!! these whole affaire!!! and tasked with investigating charlie hebdo shooting. but obviously just a strange coincidence. not like he discovered anything fwiw, his nd in command comitted suicide in , amp he found the body. so, theres that. p ohh boy,here v go pakistanis already calling it false flag by eivil jewsmt french police chief killed himself after charliehebdo attack  wtf? why? yeh sure he did... why are you reporting this three days after it happened? those cartoonists are responsible, those were sent to hell,by humiliating norms of islam and blasphemy of pbuh of islam. so horrible. they killed him how can he kill himself? was shot in the forehead! so taht he doesnt get whos behind it what ya wanna bet he was killed?????????? took it kinda personal i guess, sad dont worry...its all another weird coincidence. no conspiracy here. such a sad loss may he now rip how very sad. the trauma he must have faced. very sad. french police chief killed himself after charliehebdo attack  rip. terrible! oh no... we will be very satisfied if nawazsharif resigns. here they hide the reports which blames them. horrible!!! needless. did dubya kill himself after or just go braindead...', 'label': 1, 'qid': 1}, {'text': 'coronavirus disease covid advice for the public should i wear a mask to protect myself? how to put on, use, take off and dispose of a mask? when and how to use masks? infection control for suspected or confirmed covid cases who recommendations cdc recommendations personal protective equipment ppe n respirators and surgical masks face masks surgical mask vs n respirator', 'label': 0, 'qid': 2}, {'text': 'ottawa police confirm that there were multiple suspects in the shooting, saying there were possibly shooters. i hope this isnt just a prelude to a bigger attack. killers go berserk when cornered. henceforth, no lapses in security should be there. hahaha, you said far more than you think terrorists in ottawa when canadians of all people start shooting, well, cest la fin du monde, non?', 'label': 0, 'qid': 3}, {'text': 'if the primary focus of a government isnt to alleviate sufferingdeath and promote happinesswellbeing for its citizens, why do we need it to begin with?', 'label': 0, 'qid': 4}, {'text': 'are hand dryers effective in killing the new coronavirus? drinking alcohol does not protect you against covid and can be dangerous being able to hold your breath for seconds or more without coughing or feeling discomfort does not mean you are free from the coronavirus disease covid or any other lung disease. you can recover from the coronavirus disease covid. catching the new coronavirus does not mean you will have it for life. exposing yourself to the sun or to temperatures higher than c degrees does not prevent the coronavirus disease covid g mobile networks do not spread covid', 'label': 0, 'qid': 5}, {'text': 'does the new coronavirus affect older people, or are younger people also susceptible? covid health do vaccines against pneumonia protect you against the new coronavirus? covid corona are there any specific medicines to prevent or treat the new coronavirus? covid coronavirus', 'label': 0, 'qid': 6}, {'text': 'q are antibiotics effective in preventing and treating the new coronavirus ncov?a no, antibiotics do not work against viruses, only bacteria.the ncv is a virus and, therefore, antibiotics should not be used as a means of prevention or treatment. q chinese doctors said, we will use hiv drug to treat this virus firstly ! does this useful ? or just trial and error in chinese treatment methodology ?', 'label': 0, 'qid': 7}, {'text': 'a memorial for mh victims forms near the netherlands embassy in kiev roman pilipeyepa rip putin thinks he was the target, and the ukies shot down the wrong plane. msnbc  ge ge ? u folks didnt deserve this level of tragedy.id like offer my condolences to families of the victims really sad tragic loss', 'label': 1, 'qid': 8}, {'text': 'prime minister tony abbotts statement on the sydneysiege. updates prime ministers should not have to comment on everything.  prime minister tony abbotts statement on the sydneysiege. updates', 'label': 0, 'qid': 9}]\n"
     ]
    }
   ],
   "metadata": {}
  },
  {
   "cell_type": "code",
   "execution_count": 3,
   "source": [
    "from paddlenlp.transformers import SkepForSequenceClassification, SkepTokenizer\r\n",
    "\r\n",
    "# load skep\r\n",
    "model = SkepForSequenceClassification.from_pretrained(pretrained_model_name_or_path=\"skep_ernie_2.0_large_en\", num_classes=2)\r\n",
    "# tokenizer loaded\r\n",
    "tokenizer = SkepTokenizer.from_pretrained(pretrained_model_name_or_path=\"skep_ernie_2.0_large_en\")"
   ],
   "outputs": [
    {
     "output_type": "stream",
     "name": "stderr",
     "text": [
      "\u001b[32m[2022-04-25 21:36:17,387] [    INFO]\u001b[0m - Already cached C:\\Users\\46901\\.paddlenlp\\models\\skep_ernie_2.0_large_en\\skep_ernie_2.0_large_en.pdparams\u001b[0m\n",
      "\u001b[32m[2022-04-25 21:36:23,095] [    INFO]\u001b[0m - Already cached C:\\Users\\46901\\.paddlenlp\\models\\skep_ernie_2.0_large_en\\skep_ernie_2.0_large_en.vocab.txt\u001b[0m\n"
     ]
    }
   ],
   "metadata": {}
  },
  {
   "cell_type": "code",
   "execution_count": 4,
   "source": [
    "import os\r\n",
    "from functools import partial\r\n",
    "\r\n",
    "\r\n",
    "import numpy as np\r\n",
    "import paddle\r\n",
    "import paddle.nn.functional as F\r\n",
    "from paddlenlp.data import Stack, Tuple, Pad\r\n",
    "\r\n",
    "from utils import create_dataloader,convert_example\r\n",
    "\r\n",
    "\r\n",
    "batch_size = 32\r\n",
    "max_seq_length = 256\r\n",
    "\r\n",
    "trans_func = partial(\r\n",
    "    convert_example,\r\n",
    "    tokenizer=tokenizer,\r\n",
    "    max_seq_length=max_seq_length)\r\n",
    "\r\n",
    "batchify_fn = lambda samples, fn=Tuple(\r\n",
    "    Pad(axis=0, pad_val=tokenizer.pad_token_id),  # input_ids\r\n",
    "    Pad(axis=0, pad_val=tokenizer.pad_token_type_id),  # token_type_ids\r\n",
    "    Stack()  # labels\r\n",
    "): [data for data in fn(samples)]\r\n",
    "train_data_loader = create_dataloader(\r\n",
    "    train_ds,\r\n",
    "    mode='train',\r\n",
    "    batch_size=batch_size,\r\n",
    "    batchify_fn=batchify_fn,\r\n",
    "    trans_fn=trans_func)\r\n",
    "dev_data_loader = create_dataloader(\r\n",
    "    dev_ds,\r\n",
    "    mode='dev',\r\n",
    "    batch_size=batch_size,\r\n",
    "    batchify_fn=batchify_fn,\r\n",
    "    trans_fn=trans_func)\r\n",
    "\r\n",
    "\r\n",
    "import time\r\n",
    "\r\n",
    "from metrics import evaluate\r\n",
    "\r\n",
    "epochs = 5\r\n",
    "# save_dir\r\n",
    "ckpt_dir = \"skep_ckpt\"\r\n",
    "# step number\r\n",
    "num_training_steps = len(train_data_loader) * epochs\r\n",
    "\r\n",
    "optimizer = paddle.optimizer.AdamW(\r\n",
    "    learning_rate=2e-5,\r\n",
    "    parameters=model.parameters())\r\n",
    "criterion = paddle.nn.loss.CrossEntropyLoss()\r\n",
    "metric = paddle.metric.Accuracy()"
   ],
   "outputs": [],
   "metadata": {}
  },
  {
   "cell_type": "code",
   "execution_count": null,
   "source": [
    "print('Total: ',num_training_steps)\r\n",
    "global_step = 0\r\n",
    "tic_train = time.time()\r\n",
    "for epoch in range(1, epochs + 1):\r\n",
    "    for step, batch in enumerate(train_data_loader, start=1):\r\n",
    "        input_ids, token_type_ids, labels = batch\r\n",
    "\r\n",
    "        logits = model(input_ids, token_type_ids)\r\n",
    "\r\n",
    "        loss = criterion(logits, labels)\r\n",
    "\r\n",
    "        probs = F.softmax(logits, axis=1)\r\n",
    "\r\n",
    "        correct = metric.compute(probs, labels)\r\n",
    "        metric.update(correct)\r\n",
    "        acc = metric.accumulate()\r\n",
    "\r\n",
    "        global_step += 1\r\n",
    "        if global_step % 500 == 0:\r\n",
    "            print(\r\n",
    "                \"global step %d, epoch: %d, batch: %d, loss: %.5f, accu: %.5f, speed: %.2f step/s\"\r\n",
    "                % (global_step, epoch, step, loss, acc,\r\n",
    "                    10 / (time.time() - tic_train)))\r\n",
    "            tic_train = time.time()\r\n",
    "\r\n",
    "        loss.backward()\r\n",
    "        optimizer.step()\r\n",
    "        optimizer.clear_grad()\r\n",
    "\r\n",
    "        if global_step % 1000 == 0:\r\n",
    "            save_dir = os.path.join(ckpt_dir, \"model_%d\" % global_step)\r\n",
    "            if not os.path.exists(save_dir):\r\n",
    "                os.makedirs(save_dir)\r\n",
    "\r\n",
    "            evaluate(model, criterion, metric, dev_data_loader)\r\n",
    "\r\n",
    "            model.save_pretrained(save_dir)\r\n",
    "\r\n",
    "            tokenizer.save_pretrained(save_dir)"
   ],
   "outputs": [
    {
     "output_type": "stream",
     "name": "stdout",
     "text": [
      "Total:  285\n"
     ]
    }
   ],
   "metadata": {}
  },
  {
   "cell_type": "code",
   "execution_count": null,
   "source": [
    "import numpy as np\r\n",
    "from utils import convert_example\r\n",
    "\r\n",
    "# process test data\r\n",
    "trans_func = partial(\r\n",
    "    convert_example,\r\n",
    "    tokenizer=tokenizer,\r\n",
    "    max_seq_length=max_seq_length,\r\n",
    "    is_test=True)\r\n",
    "batchify_fn = lambda samples, fn=Tuple(\r\n",
    "    Pad(axis=0, pad_val=tokenizer.pad_token_id),  # input\r\n",
    "    Pad(axis=0, pad_val=tokenizer.pad_token_type_id),  # segment\r\n",
    "    Stack() # qid\r\n",
    "): [data for data in fn(samples)]\r\n",
    "test_data_loader = create_dataloader(\r\n",
    "    test_ds,\r\n",
    "    mode='test',\r\n",
    "    batch_size=batch_size,\r\n",
    "    batchify_fn=batchify_fn,\r\n",
    "    trans_fn=trans_func)"
   ],
   "outputs": [
    {
     "output_type": "error",
     "ename": "Error",
     "evalue": "Session cannot generate requests",
     "traceback": [
      "Error: Session cannot generate requests",
      "at w.executeCodeCell (c:\\Users\\46901\\.vscode\\extensions\\ms-toolsai.jupyter-2021.8.1236758218\\out\\client\\extension.js:90:327199)",
      "at w.execute (c:\\Users\\46901\\.vscode\\extensions\\ms-toolsai.jupyter-2021.8.1236758218\\out\\client\\extension.js:90:326520)",
      "at w.start (c:\\Users\\46901\\.vscode\\extensions\\ms-toolsai.jupyter-2021.8.1236758218\\out\\client\\extension.js:90:322336)",
      "at runMicrotasks (<anonymous>)",
      "at processTicksAndRejections (internal/process/task_queues.js:93:5)",
      "at async t.CellExecutionQueue.executeQueuedCells (c:\\Users\\46901\\.vscode\\extensions\\ms-toolsai.jupyter-2021.8.1236758218\\out\\client\\extension.js:90:336863)",
      "at async t.CellExecutionQueue.start (c:\\Users\\46901\\.vscode\\extensions\\ms-toolsai.jupyter-2021.8.1236758218\\out\\client\\extension.js:90:336403)"
     ]
    }
   ],
   "metadata": {}
  },
  {
   "cell_type": "code",
   "execution_count": null,
   "source": [
    "# choose model directory\r\n",
    "params_path = 'skep_ckp/model_5000/model_state.pdparams'\r\n",
    "if params_path and os.path.isfile(params_path):\r\n",
    "    # load model\r\n",
    "    state_dict = paddle.load(params_path)\r\n",
    "    model.set_dict(state_dict)\r\n",
    "    print(\"Loaded parameters from %s\" % params_path)"
   ],
   "outputs": [],
   "metadata": {}
  },
  {
   "cell_type": "code",
   "execution_count": null,
   "source": [
    "label_map = {0 : 'nonrumour', 1 : 'rumour'}\n",
    "results = []\n",
    "\n",
    "model.eval()\n",
    "for batch in test_data_loader:\n",
    "    input_ids, token_type_ids, qids = batch\n",
    "\n",
    "    logits = model(input_ids, token_type_ids)\n",
    "\n",
    "    probs = F.softmax(logits, axis=-1)\n",
    "    idx = paddle.argmax(probs, axis=1).numpy()\n",
    "    idx = idx.tolist()\n",
    "    labels = [label_map[i] for i in idx]\n",
    "    qids = qids.numpy().tolist()\n",
    "    results.extend(zip(qids, labels))"
   ],
   "outputs": [],
   "metadata": {}
  },
  {
   "cell_type": "code",
   "execution_count": null,
   "source": [
    "res_dir = \"./results\"\n",
    "if not os.path.exists(res_dir):\n",
    "    os.makedirs(res_dir)\n",
    "\n",
    "with open(os.path.join(res_dir, \"SKEP.csv\"), 'w', encoding=\"utf8\") as f:\n",
    "    f.write(\"Id,Predicted\\n\")\n",
    "    for qid, label in results:\n",
    "        f.write(str(qid[0])+\",\"+label+\"\\n\")"
   ],
   "outputs": [],
   "metadata": {}
  }
 ],
 "metadata": {
  "interpreter": {
   "hash": "b3ba2566441a7c06988d0923437866b63cedc61552a5af99d1f4fb67d367b25f"
  },
  "kernelspec": {
   "name": "python3",
   "display_name": "Python 3.8.8 64-bit ('base': conda)"
  },
  "language_info": {
   "codemirror_mode": {
    "name": "ipython",
    "version": 3
   },
   "file_extension": ".py",
   "mimetype": "text/x-python",
   "name": "python",
   "nbconvert_exporter": "python",
   "pygments_lexer": "ipython3",
   "version": "3.8.8"
  }
 },
 "nbformat": 4,
 "nbformat_minor": 2
}