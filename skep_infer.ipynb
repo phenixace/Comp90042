{
 "cells": [
  {
   "cell_type": "code",
   "execution_count": null,
   "source": [
    "import paddle\r\n",
    "import os\r\n",
    "from paddlenlp.transformers import SkepForSequenceClassification, SkepTokenizer\r\n",
    "\r\n",
    "# load skep\r\n",
    "model = SkepForSequenceClassification.from_pretrained(pretrained_model_name_or_path=\"skep_ernie_2.0_large_en\", num_classes=2)\r\n",
    "# tokenizer loaded\r\n",
    "tokenizer = SkepTokenizer.from_pretrained(pretrained_model_name_or_path=\"skep_ernie_2.0_large_en\")"
   ],
   "outputs": [],
   "metadata": {}
  },
  {
   "cell_type": "code",
   "execution_count": null,
   "source": [
    "# choose model directory\r\n",
    "params_path = './skep_ckpt//model_2200/model_state.pdparams'\r\n",
    "if params_path and os.path.isfile(params_path):\r\n",
    "    # load model\r\n",
    "    state_dict = paddle.load(params_path)\r\n",
    "    model.set_dict(state_dict)\r\n",
    "    print(\"Loaded parameters from %s\" % params_path)\r\n",
    "else:\r\n",
    "    print(\"Model not found\")"
   ],
   "outputs": [],
   "metadata": {}
  },
  {
   "cell_type": "code",
   "execution_count": null,
   "source": [
    "index = 0\r\n",
    "model.eval()\r\n",
    "\r\n",
    "import pandas as pd\r\n",
    "covid_data = pd.read_csv('./project-data/covid19_tweets.csv')\r\n",
    "\r\n",
    "with open('./results/covid19_tweets_sentiment.csv', 'w+', encoding='utf-8') as f:\r\n",
    "    f.write('label\\n')\r\n",
    "\r\n",
    "    for i in range(len(covid_data)):\r\n",
    "        text = covid_data['text'][i]\r\n",
    "        inputs = tokenizer(text)\r\n",
    "        inputs = {k:paddle.to_tensor([v]) for (k, v) in inputs.items()}\r\n",
    "        output = model(**inputs)\r\n",
    "                \r\n",
    "        pred_labels = [item.argmax().item() for item in output]\r\n",
    "        f.write(str(pred_labels[0]) + '\\n')"
   ],
   "outputs": [],
   "metadata": {}
  },
  {
   "cell_type": "code",
   "execution_count": null,
   "source": [
    "import json\r\n",
    "from utils import clean_text\r\n",
    "from tqdm import tqdm\r\n",
    "model.eval()\r\n",
    "\r\n",
    "with open('./project-data/covid.data.txt', 'r') as f:\r\n",
    "    instance_lines = f.readlines()\r\n",
    "\r\n",
    "instances = []\r\n",
    "for line in instance_lines:\r\n",
    "    temp = line.strip('\\n').split(',')\r\n",
    "    for item in temp:\r\n",
    "        if os.path.exists('./project-data/task2-tweet-objects/' + str(item)+'.json'):\r\n",
    "            instances.append(item)\r\n",
    "\r\n",
    "with open('./results/task2-tweets.csv', 'w+', encoding='utf-8') as f:   \r\n",
    "    f.write('Id,Label\\n')            \r\n",
    "    for item in tqdm(instances):\r\n",
    "        f2 = open('./project-data/task2-tweet-objects/' + item + '.json', 'r', encoding='utf-8')\r\n",
    "        content = json.load(f2)\r\n",
    "        text = clean_text(content['text'])\r\n",
    "        f2.close()\r\n",
    "\r\n",
    "        inputs = tokenizer(text)\r\n",
    "        inputs = {k:paddle.to_tensor([v]) for (k, v) in inputs.items()}\r\n",
    "        output = model(**inputs)\r\n",
    "                \r\n",
    "        pred_labels = [item.argmax().item() for item in output]\r\n",
    "        f.write(item + ',' + str(pred_labels[0]) + '\\n')"
   ],
   "outputs": [],
   "metadata": {}
  }
 ],
 "metadata": {
  "orig_nbformat": 4,
  "language_info": {
   "name": "python",
   "version": "3.8.8",
   "mimetype": "text/x-python",
   "codemirror_mode": {
    "name": "ipython",
    "version": 3
   },
   "pygments_lexer": "ipython3",
   "nbconvert_exporter": "python",
   "file_extension": ".py"
  },
  "kernelspec": {
   "name": "python3",
   "display_name": "Python 3.8.8 64-bit ('base': conda)"
  },
  "interpreter": {
   "hash": "b3ba2566441a7c06988d0923437866b63cedc61552a5af99d1f4fb67d367b25f"
  }
 },
 "nbformat": 4,
 "nbformat_minor": 2
}